{
 "cells": [
  {
   "cell_type": "code",
   "execution_count": 5,
   "id": "17db9344",
   "metadata": {},
   "outputs": [],
   "source": [
    "from langchain_docling import DoclingLoader\n",
    "from langchain_docling.loader import ExportType\n",
    "from langchain_text_splitters import RecursiveCharacterTextSplitter\n",
    "from transformers import AutoTokenizer"
   ]
  },
  {
   "cell_type": "code",
   "execution_count": 9,
   "id": "10a12afa",
   "metadata": {},
   "outputs": [],
   "source": [
    "# STEP 1. Docling으로 문서 로드\n",
    "loader = DoclingLoader(\n",
    "    file_path=r\"C:\\Users\\jhwoo\\Desktop\\SKN_ws\\project\\SKN13-FINAL-1TEAM\\한국방송광고진흥공사\\내부문서\\공개입찰\\[재공고]제안요청서_2025년도 시청점유율 조사용역.pdf\",\n",
    "    export_type=ExportType.DOC_CHUNKS\n",
    ")"
   ]
  },
  {
   "cell_type": "code",
   "execution_count": 8,
   "id": "9ddfe1cc",
   "metadata": {},
   "outputs": [
    {
     "name": "stderr",
     "output_type": "stream",
     "text": [
      "Token indices sequence length is longer than the specified maximum sequence length for this model (813 > 512). Running this sequence through the model will result in indexing errors\n"
     ]
    }
   ],
   "source": [
    "docs = loader.load()"
   ]
  },
  {
   "cell_type": "code",
   "execution_count": 10,
   "id": "4023f270",
   "metadata": {},
   "outputs": [
    {
     "name": "stderr",
     "output_type": "stream",
     "text": [
      "c:\\Users\\jhwoo\\anaconda3\\envs\\lang_env\\Lib\\site-packages\\huggingface_hub\\file_download.py:143: UserWarning: `huggingface_hub` cache-system uses symlinks by default to efficiently store duplicated files but your machine does not support them in C:\\Users\\jhwoo\\.cache\\huggingface\\hub\\models--bert-base-uncased. Caching files will still work but in a degraded version that might require more space on your disk. This warning can be disabled by setting the `HF_HUB_DISABLE_SYMLINKS_WARNING` environment variable. For more details, see https://huggingface.co/docs/huggingface_hub/how-to-cache#limitations.\n",
      "To support symlinks on Windows, you either need to activate Developer Mode or to run Python as an administrator. In order to activate developer mode, see this article: https://docs.microsoft.com/en-us/windows/apps/get-started/enable-your-device-for-development\n",
      "  warnings.warn(message)\n"
     ]
    }
   ],
   "source": [
    "# STEP 2. 사용할 모델에 맞는 Tokenizer 설정 (예시: BERT 기반 모델)\n",
    "tokenizer = AutoTokenizer.from_pretrained(\"bert-base-uncased\")\n",
    "MAX_TOKENS = 512"
   ]
  },
  {
   "cell_type": "code",
   "execution_count": 11,
   "id": "90de2f6b",
   "metadata": {},
   "outputs": [],
   "source": [
    "# STEP 3. 토큰 기준 쪼개기 함수\n",
    "def split_by_token(text, max_tokens=512):\n",
    "    tokens = tokenizer(text, truncation=False)[\"input_ids\"]\n",
    "    chunks = [tokens[i:i+max_tokens] for i in range(0, len(tokens), max_tokens)]\n",
    "    return [tokenizer.decode(c, skip_special_tokens=True) for c in chunks]"
   ]
  },
  {
   "cell_type": "code",
   "execution_count": 12,
   "id": "2d18f606",
   "metadata": {},
   "outputs": [],
   "source": [
    "# STEP 4. 모든 Docling chunk 점검 및 분할\n",
    "safe_chunks = []\n",
    "for doc in docs:\n",
    "    text = doc.page_content\n",
    "    token_count = len(tokenizer(text)[\"input_ids\"])\n",
    "    if token_count > MAX_TOKENS:\n",
    "        split_chunks = split_by_token(text, MAX_TOKENS)\n",
    "        safe_chunks.extend(split_chunks)\n",
    "    else:\n",
    "        safe_chunks.append(text)"
   ]
  },
  {
   "cell_type": "code",
   "execution_count": null,
   "id": "31fea543",
   "metadata": {},
   "outputs": [
    {
     "ename": "NameError",
     "evalue": "name 'safe_chunks' is not defined",
     "output_type": "error",
     "traceback": [
      "\u001b[31m---------------------------------------------------------------------------\u001b[39m",
      "\u001b[31mNameError\u001b[39m                                 Traceback (most recent call last)",
      "\u001b[36mCell\u001b[39m\u001b[36m \u001b[39m\u001b[32mIn[1]\u001b[39m\u001b[32m, line 2\u001b[39m\n\u001b[32m      1\u001b[39m \u001b[38;5;66;03m# ✅ 결과 확인\u001b[39;00m\n\u001b[32m----> \u001b[39m\u001b[32m2\u001b[39m \u001b[38;5;28mprint\u001b[39m(\u001b[33mf\u001b[39m\u001b[33m\"\u001b[39m\u001b[33m총 \u001b[39m\u001b[38;5;132;01m{\u001b[39;00m\u001b[38;5;28mlen\u001b[39m(\u001b[43msafe_chunks\u001b[49m)\u001b[38;5;132;01m}\u001b[39;00m\u001b[33m개의 safe chunk 생성 완료.\u001b[39m\u001b[33m\"\u001b[39m)\n\u001b[32m      3\u001b[39m \u001b[38;5;28mprint\u001b[39m(safe_chunks[\u001b[32m4\u001b[39m])  \u001b[38;5;66;03m# 첫 chunk 일부 미리보기\u001b[39;00m\n",
      "\u001b[31mNameError\u001b[39m: name 'safe_chunks' is not defined"
     ]
    }
   ],
   "source": [
    "# ✅ 결과 확인\n",
    "print(f\"총 {len(safe_chunks)}개의 safe chunk 생성 완료.\")\n",
    "print(safe_chunks[3])  # 첫 chunk 일부 미리보기"
   ]
  }
 ],
 "metadata": {
  "kernelspec": {
   "display_name": "lang_env",
   "language": "python",
   "name": "python3"
  },
  "language_info": {
   "codemirror_mode": {
    "name": "ipython",
    "version": 3
   },
   "file_extension": ".py",
   "mimetype": "text/x-python",
   "name": "python",
   "nbconvert_exporter": "python",
   "pygments_lexer": "ipython3",
   "version": "3.12.11"
  }
 },
 "nbformat": 4,
 "nbformat_minor": 5
}
